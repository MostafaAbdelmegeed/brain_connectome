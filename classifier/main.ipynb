{
 "cells": [
  {
   "cell_type": "code",
   "execution_count": 1,
   "metadata": {},
   "outputs": [],
   "source": [
    "from spektral.data import Dataset, Graph, BatchLoader\n",
    "import numpy as np\n",
    "from graphIO import read_adj_matrices_from_directory\n",
    "from tensorflow.keras.models import Model\n",
    "from tensorflow.keras.layers import Dense, Dropout, Input\n",
    "from spektral.layers import GlobalSumPool, ECCConv, AsymCheegerCutPool\n",
    "import tensorflow as tf"
   ]
  },
  {
   "cell_type": "code",
   "execution_count": 2,
   "metadata": {},
   "outputs": [],
   "source": [
    "DATA_DIR = 'C:/Users/mosta/OneDrive - UNCG/Academics/CSC 699 - Thesis/data/data/'\n",
    "CURV_DIR = f'{DATA_DIR}/curv'\n",
    "ADJ_DIR = f'{DATA_DIR}/adj'\n",
    "AD_LABEL = [1]\n",
    "CN_LABEL = [0]"
   ]
  },
  {
   "cell_type": "code",
   "execution_count": 3,
   "metadata": {},
   "outputs": [
    {
     "name": "stderr",
     "output_type": "stream",
     "text": [
      "Reading adjacency matrices: 100%|██████████| 50/50 [00:00<00:00, 386.45it/s]\n",
      "Reading adjacency matrices: 100%|██████████| 50/50 [00:00<00:00, 384.93it/s]"
     ]
    },
    {
     "name": "stdout",
     "output_type": "stream",
     "text": [
      "Loaded 50 AD and 50 CN matrices\n"
     ]
    },
    {
     "name": "stderr",
     "output_type": "stream",
     "text": [
      "\n"
     ]
    }
   ],
   "source": [
    "ad_adj_matrices = read_adj_matrices_from_directory(f'{ADJ_DIR}/ad')\n",
    "cn_adj_matrices = read_adj_matrices_from_directory(f'{ADJ_DIR}/cn')\n",
    "print(f'Loaded {len(ad_adj_matrices)} AD and {len(cn_adj_matrices)} CN matrices')"
   ]
  },
  {
   "cell_type": "code",
   "execution_count": 4,
   "metadata": {},
   "outputs": [
    {
     "name": "stderr",
     "output_type": "stream",
     "text": [
      "Reading adjacency matrices: 100%|██████████| 50/50 [00:00<00:00, 330.79it/s]\n",
      "Reading adjacency matrices: 100%|██████████| 50/50 [00:00<00:00, 330.46it/s]"
     ]
    },
    {
     "name": "stdout",
     "output_type": "stream",
     "text": [
      "Loaded 50 AD and 50 CN matrices\n"
     ]
    },
    {
     "name": "stderr",
     "output_type": "stream",
     "text": [
      "\n"
     ]
    }
   ],
   "source": [
    "ad_curv_matrices = read_adj_matrices_from_directory(f'{CURV_DIR}/ad')\n",
    "cn_curv_matrices = read_adj_matrices_from_directory(f'{CURV_DIR}/cn')\n",
    "print(f'Loaded {len(ad_curv_matrices)} AD and {len(cn_curv_matrices)} CN matrices')"
   ]
  },
  {
   "cell_type": "code",
   "execution_count": 5,
   "metadata": {},
   "outputs": [],
   "source": [
    "class ConnectimeGraphDataset(Dataset):\n",
    "    def __init__(self, adj_matrices, edge_features, labels, **kwargs):\n",
    "        self.adj_matrices = adj_matrices\n",
    "        self.edge_features = edge_features\n",
    "        self.labels = labels\n",
    "        super().__init__(**kwargs)\n",
    "    def read(self):\n",
    "        data_list = []\n",
    "        for key in self.adj_matrices.keys():\n",
    "            adj = self.adj_matrices[key]\n",
    "            edge_feat = self.edge_features[key].reshape(self.edge_features[key].shape[0], self.edge_features[key].shape[1], 1)\n",
    "            label = self.labels[key]\n",
    "            data_list.append(Graph(x=np.eye(adj.shape[0]), a=adj, e=edge_feat, y=label))\n",
    "        return data_list"
   ]
  },
  {
   "cell_type": "code",
   "execution_count": 6,
   "metadata": {},
   "outputs": [
    {
     "data": {
      "text/plain": [
       "Graph(n_nodes=160, n_node_features=160, n_edge_features=1, n_labels=1)"
      ]
     },
     "execution_count": 6,
     "metadata": {},
     "output_type": "execute_result"
    }
   ],
   "source": [
    "adj_matrices = {**ad_adj_matrices, **cn_adj_matrices}\n",
    "curv_matrices = {**ad_curv_matrices, **cn_curv_matrices}\n",
    "labels = {**{key: AD_LABEL for key in ad_adj_matrices.keys()}, **{key: CN_LABEL for key in cn_adj_matrices.keys()}}\n",
    "\n",
    "dataset = ConnectimeGraphDataset(adj_matrices, curv_matrices, labels)\n",
    "dataset[0]"
   ]
  },
  {
   "cell_type": "code",
   "execution_count": 7,
   "metadata": {},
   "outputs": [],
   "source": [
    "class MyFirstGNN(Model):\n",
    "    def __init__(self, n_hidden, n_labels):\n",
    "        super().__init__()\n",
    "        self.input_layer = ECCConv(n_hidden)\n",
    "        self.pool = GlobalSumPool()\n",
    "        # self.hidden_layer_1 = Dense(n_hidden, 'relu')\n",
    "        # self.hidden_layer_2 = Dense(n_hidden, 'relu')\n",
    "        self.output_layer = Dense(n_labels, activation='sigmoid')\n",
    "    def call(self, inputs):\n",
    "        out = self.input_layer(inputs)\n",
    "        out = self.pool(out)\n",
    "        # out = self.hidden_layer_1(out)\n",
    "        # out = self.hidden_layer_2(out)\n",
    "        out = self.output_layer(out)\n",
    "        return out"
   ]
  },
  {
   "cell_type": "code",
   "execution_count": 8,
   "metadata": {},
   "outputs": [],
   "source": [
    "loader = BatchLoader(dataset, batch_size=1, shuffle=True)"
   ]
  },
  {
   "cell_type": "code",
   "execution_count": 9,
   "metadata": {},
   "outputs": [],
   "source": [
    "opt =  tf.keras.optimizers.Adam()\n",
    "loss = tf.keras.losses.BinaryCrossentropy()"
   ]
  },
  {
   "cell_type": "code",
   "execution_count": 10,
   "metadata": {},
   "outputs": [],
   "source": [
    "model = MyFirstGNN(128, dataset.n_labels)\n",
    "model.compile(optimizer=opt,\n",
    "              loss=loss,\n",
    "              metrics=[tf.keras.metrics.BinaryAccuracy(), \n",
    "                       tf.keras.metrics.Precision(),\n",
    "                       tf.keras.metrics.Recall(),\n",
    "                       tf.keras.metrics.AUC()])"
   ]
  },
  {
   "cell_type": "code",
   "execution_count": 11,
   "metadata": {},
   "outputs": [
    {
     "name": "stderr",
     "output_type": "stream",
     "text": [
      "c:\\Users\\mosta\\miniconda3\\envs\\brain_connectome\\lib\\site-packages\\spektral\\data\\utils.py:221: UserWarning: you are shuffling a 'ConnectimeGraphDataset' object which is not a subclass of 'Sequence'; `shuffle` is not guaranteed to behave correctly. E.g., non-numpy array/tensor objects with view semantics may contain duplicates after shuffling.\n",
      "  np.random.shuffle(a)\n"
     ]
    },
    {
     "name": "stdout",
     "output_type": "stream",
     "text": [
      "Epoch 1/10\n",
      "100/100 [==============================] - 258s 3s/step - loss: 378142.3125 - binary_accuracy: 0.4300 - precision: 0.4255 - recall: 0.4000 - auc: 0.4300\n",
      "Epoch 2/10\n",
      "100/100 [==============================] - 258s 3s/step - loss: 260677.5625 - binary_accuracy: 0.5200 - precision: 0.5217 - recall: 0.4800 - auc: 0.5200\n",
      "Epoch 3/10\n",
      "100/100 [==============================] - 257s 3s/step - loss: 115569.2422 - binary_accuracy: 0.6200 - precision: 0.6200 - recall: 0.6200 - auc: 0.6200\n",
      "Epoch 4/10\n",
      "100/100 [==============================] - 257s 3s/step - loss: 21512.8105 - binary_accuracy: 0.7400 - precision: 0.7308 - recall: 0.7600 - auc: 0.7400\n",
      "Epoch 5/10\n",
      "100/100 [==============================] - 256s 3s/step - loss: 32007.0098 - binary_accuracy: 0.7100 - precision: 0.7143 - recall: 0.7000 - auc: 0.7100\n",
      "Epoch 6/10\n",
      "100/100 [==============================] - 257s 3s/step - loss: 16332.6387 - binary_accuracy: 0.6600 - precision: 0.6600 - recall: 0.6600 - auc: 0.6600\n",
      "Epoch 7/10\n",
      "100/100 [==============================] - 257s 3s/step - loss: 6354.3369 - binary_accuracy: 0.7700 - precision: 0.7647 - recall: 0.7800 - auc: 0.7700\n",
      "Epoch 8/10\n",
      "100/100 [==============================] - 256s 3s/step - loss: 3108.9854 - binary_accuracy: 0.8000 - precision: 0.8000 - recall: 0.8000 - auc: 0.8000\n",
      "Epoch 9/10\n",
      "100/100 [==============================] - 256s 3s/step - loss: 6210.8613 - binary_accuracy: 0.6900 - precision: 0.6863 - recall: 0.7000 - auc: 0.6900\n",
      "Epoch 10/10\n",
      "100/100 [==============================] - 256s 3s/step - loss: 1771.0452 - binary_accuracy: 0.8000 - precision: 0.8000 - recall: 0.8000 - auc: 0.8000\n"
     ]
    }
   ],
   "source": [
    "history = model.fit(loader.load(), steps_per_epoch=loader.steps_per_epoch, epochs=10)"
   ]
  },
  {
   "cell_type": "code",
   "execution_count": 12,
   "metadata": {},
   "outputs": [
    {
     "name": "stdout",
     "output_type": "stream",
     "text": [
      "Model: \"my_first_gnn\"\n",
      "_________________________________________________________________\n",
      " Layer (type)                Output Shape              Param #   \n",
      "=================================================================\n",
      " ecc_conv (ECCConv)          multiple                  61568     \n",
      "                                                                 \n",
      " global_sum_pool (GlobalSumP  multiple                 0         \n",
      " ool)                                                            \n",
      "                                                                 \n",
      " dense (Dense)               multiple                  0 (unused)\n",
      "                                                                 \n",
      " dense_1 (Dense)             multiple                  0 (unused)\n",
      "                                                                 \n",
      " dense_2 (Dense)             multiple                  129       \n",
      "                                                                 \n",
      "=================================================================\n",
      "Total params: 61,697\n",
      "Trainable params: 61,697\n",
      "Non-trainable params: 0\n",
      "_________________________________________________________________\n"
     ]
    }
   ],
   "source": [
    "model.summary()"
   ]
  },
  {
   "cell_type": "code",
   "execution_count": 13,
   "metadata": {},
   "outputs": [
    {
     "name": "stdout",
     "output_type": "stream",
     "text": [
      "100/100 [==============================] - 136s 1s/step - loss: 406.4082 - binary_accuracy: 0.9100 - precision: 0.9200 - recall: 0.9020 - auc: 0.9102\n",
      "Test loss: [406.408203125, 0.9100000262260437, 0.9200000166893005, 0.9019607901573181, 0.9101641178131104]\n"
     ]
    }
   ],
   "source": [
    "loss = model.evaluate(loader.load(), steps=loader.steps_per_epoch)\n",
    "\n",
    "print('Test loss: {}'.format(loss))"
   ]
  }
 ],
 "metadata": {
  "kernelspec": {
   "display_name": "brain_connectome",
   "language": "python",
   "name": "python3"
  },
  "language_info": {
   "codemirror_mode": {
    "name": "ipython",
    "version": 3
   },
   "file_extension": ".py",
   "mimetype": "text/x-python",
   "name": "python",
   "nbconvert_exporter": "python",
   "pygments_lexer": "ipython3",
   "version": "3.10.13"
  }
 },
 "nbformat": 4,
 "nbformat_minor": 2
}
