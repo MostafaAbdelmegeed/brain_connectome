{
 "cells": [
  {
   "cell_type": "code",
   "execution_count": 9,
   "metadata": {},
   "outputs": [],
   "source": [
    "import numpy as np\n",
    "import sys\n",
    "sys.path.append('C:/Users/mosta/OneDrive - UNCG\\Academics/CSC 699 - Thesis/repos/brain_connectome/graphIO')\n",
    "from graphIO import read_ad_adj_data, read_ad_curv_data, normalize_matrices, analyze_matrices\n",
    "import torch\n",
    "import torch.nn as nn\n",
    "import torch.optim as optim\n",
    "from torch.utils.data import DataLoader, TensorDataset\n",
    "import time"
   ]
  },
  {
   "cell_type": "code",
   "execution_count": 10,
   "metadata": {},
   "outputs": [],
   "source": [
    "AD_ADJ_DIR = \"C:/Users/mosta/OneDrive - UNCG/Academics/CSC 699 - Thesis/data/ad_adjacencies/\"\n",
    "AD_CURV_DIR = \"C:/Users/mosta/OneDrive - UNCG/Academics/CSC 699 - Thesis/data/curvatures/\"\n",
    "ATLAS = 160\n",
    "HIDDEN_DIM = 256\n",
    "LATENT_DIM = 160\n",
    "DEVICE = device = torch.device(\"cuda\" if torch.cuda.is_available() else \"cpu\")\n",
    "EPOCHS = 10\n",
    "LR = 0.001\n",
    "BATCH_SIZE = 8"
   ]
  },
  {
   "cell_type": "code",
   "execution_count": 11,
   "metadata": {},
   "outputs": [
    {
     "name": "stderr",
     "output_type": "stream",
     "text": [
      "Reading adjacency matrices:   0%|          | 0/50 [00:00<?, ?it/s]"
     ]
    },
    {
     "name": "stderr",
     "output_type": "stream",
     "text": [
      "Reading adjacency matrices: 100%|██████████| 50/50 [00:00<00:00, 67.82it/s]\n",
      "Reading adjacency matrices: 100%|██████████| 50/50 [00:00<00:00, 81.71it/s]\n",
      "Reading adjacency matrices: 100%|██████████| 50/50 [00:00<00:00, 76.32it/s]\n",
      "Reading adjacency matrices: 100%|██████████| 50/50 [00:00<00:00, 74.28it/s]"
     ]
    },
    {
     "name": "stdout",
     "output_type": "stream",
     "text": [
      "Statistics for the entire set of matrices:\n",
      "Mean: 2.6867397195928787e-17\n",
      "Standard Deviation: 1.0000000000000002\n",
      "Maximum Value: 45.895410203419495\n",
      "Minimum Value: -0.1663877963580864\n",
      "----------------------------------------\n",
      "Statistics for the entire set of matrices:\n",
      "Mean: 1.2079226507921702e-17\n",
      "Standard Deviation: 1.0\n",
      "Maximum Value: 5.524465098710106\n",
      "Minimum Value: -0.4229439417607101\n",
      "----------------------------------------\n",
      "Statistics for the entire set of matrices:\n",
      "Mean: 1.1793899190593038e-16\n",
      "Standard Deviation: 0.9999999999999999\n",
      "Maximum Value: 43.91243325526468\n",
      "Minimum Value: -0.1657311204532757\n",
      "----------------------------------------\n",
      "Statistics for the entire set of matrices:\n",
      "Mean: 9.952039192739903e-17\n",
      "Standard Deviation: 1.0000000000000004\n",
      "Maximum Value: 5.716892641685452\n",
      "Minimum Value: -0.4064465658939247\n",
      "----------------------------------------\n"
     ]
    },
    {
     "name": "stderr",
     "output_type": "stream",
     "text": [
      "\n"
     ]
    }
   ],
   "source": [
    "control_adj_matrices, patient_adj_matrices = read_ad_adj_data(AD_ADJ_DIR)\n",
    "control_curv_matrices, patient_curv_matrices = read_ad_curv_data(AD_CURV_DIR)\n",
    "\n",
    "analyze_matrices(control_adj_matrices)\n",
    "analyze_matrices(control_curv_matrices)\n",
    "analyze_matrices(patient_adj_matrices)\n",
    "analyze_matrices(patient_curv_matrices)"
   ]
  },
  {
   "cell_type": "code",
   "execution_count": 12,
   "metadata": {},
   "outputs": [
    {
     "name": "stdout",
     "output_type": "stream",
     "text": [
      "torch.Size([50, 1, 160, 160]) torch.Size([50, 1, 160, 160]) torch.Size([50, 1, 160, 160]) torch.Size([50, 1, 160, 160])\n"
     ]
    }
   ],
   "source": [
    "tensors = {}\n",
    "tensors['control_adj'] = torch.tensor(control_adj_matrices.reshape((-1, ATLAS, ATLAS)), dtype=torch.float32).unsqueeze(1)\n",
    "tensors['patient_adj'] = torch.tensor(patient_adj_matrices.reshape((-1, ATLAS, ATLAS)), dtype=torch.float32).unsqueeze(1)\n",
    "tensors['control_curv'] = torch.tensor(control_curv_matrices.reshape((-1, ATLAS, ATLAS)), dtype=torch.float32).unsqueeze(1)\n",
    "tensors['patient_curv'] = torch.tensor(patient_curv_matrices.reshape((-1, ATLAS, ATLAS)), dtype=torch.float32).unsqueeze(1)\n",
    "print(tensors['control_adj'].shape, tensors['patient_adj'].shape, tensors['control_curv'].shape, tensors['patient_curv'].shape)"
   ]
  },
  {
   "cell_type": "code",
   "execution_count": 13,
   "metadata": {},
   "outputs": [],
   "source": [
    "# Define the VAE model\n",
    "class VAE(nn.Module):\n",
    "    def __init__(self, input_shape=(1, ATLAS, ATLAS), hidden_dim=HIDDEN_DIM, latent_dim=LATENT_DIM):\n",
    "        super(VAE, self).__init__()\n",
    "        self.encoder = nn.Sequential(\n",
    "            nn.Conv2d(1, 32, 3, padding=1),  # output shape: (32, ATLAS, ATLAS)\n",
    "            nn.BatchNorm2d(32),\n",
    "            nn.ReLU(),\n",
    "            nn.Conv2d(32, 64, 3, padding=1),  # output shape: (64, ATLAS, ATLAS)\n",
    "            nn.BatchNorm2d(64),\n",
    "            nn.ReLU(),\n",
    "            nn.Conv2d(64, 128, 3, padding=1),  # output shape: (128, ATLAS, ATLAS)\n",
    "            nn.BatchNorm2d(128),\n",
    "            nn.ReLU(),\n",
    "            nn.Flatten()  # output shape: (128 * ATLAS * ATLAS)\n",
    "        )\n",
    "        \n",
    "        self.flattened_size = 128 * ATLAS * ATLAS\n",
    "        \n",
    "        self.fc1 = nn.Linear(self.flattened_size, hidden_dim)\n",
    "        self.bn1 = nn.BatchNorm1d(hidden_dim)\n",
    "        self.fc2 = nn.Linear(hidden_dim, latent_dim)\n",
    "        self.fc3 = nn.Linear(hidden_dim, latent_dim)\n",
    "        \n",
    "        self.fc4 = nn.Linear(latent_dim, hidden_dim)\n",
    "        self.bn2 = nn.BatchNorm1d(hidden_dim)\n",
    "        self.fc5 = nn.Linear(hidden_dim, self.flattened_size)\n",
    "        \n",
    "        self.decoder = nn.Sequential(\n",
    "            nn.Unflatten(1, (128, ATLAS, ATLAS)),\n",
    "            nn.ConvTranspose2d(128, 64, 3, padding=1),  # output shape: (64, ATLAS, ATLAS)\n",
    "            nn.BatchNorm2d(64),\n",
    "            nn.ReLU(),\n",
    "            nn.ConvTranspose2d(64, 32, 3, padding=1),  # output shape: (32, ATLAS, ATLAS)\n",
    "            nn.BatchNorm2d(32),\n",
    "            nn.ReLU(),\n",
    "            nn.ConvTranspose2d(32, 1, 3, padding=1),  # output shape: (1, ATLAS, ATLAS)\n",
    "            nn.Sigmoid()\n",
    "        )\n",
    "        \n",
    "    def encode(self, x):\n",
    "        h = self.encoder(x)\n",
    "        h = torch.relu(self.bn1(self.fc1(h)))\n",
    "        return self.fc2(h), self.fc3(h)\n",
    "    \n",
    "    def reparameterize(self, mu, logvar):\n",
    "        std = torch.exp(0.5 * logvar)\n",
    "        eps = torch.randn_like(std)\n",
    "        return mu + eps * std\n",
    "    \n",
    "    def decode(self, z):\n",
    "        h = torch.relu(self.bn2(self.fc4(z)))\n",
    "        h = torch.relu(self.fc5(h))\n",
    "        h = self.decoder(h)\n",
    "        return h\n",
    "    \n",
    "    def forward(self, x):\n",
    "        mu, logvar = self.encode(x)\n",
    "        z = self.reparameterize(mu, logvar)\n",
    "        return self.decode(z), mu, logvar\n",
    "\n",
    "def loss_function(recon_x, x, mu, logvar):\n",
    "    MSE = nn.functional.mse_loss(recon_x, x, reduction='sum')\n",
    "    KLD = -0.5 * torch.sum(1 + logvar - mu.pow(2) - logvar.exp())\n",
    "    return MSE + KLD\n",
    "\n",
    "def calculate_mse(dataloader, model):\n",
    "    model.eval()\n",
    "    mse_loss = 0\n",
    "    with torch.no_grad():\n",
    "        for data, _ in dataloader:\n",
    "            data = data.to(DEVICE)\n",
    "            recon, _, _ = model(data)\n",
    "            mse_loss += nn.functional.mse_loss(recon, data, reduction='sum').item()\n",
    "    return mse_loss / len(dataloader.dataset)\n",
    "\n",
    "# Function to get the latent space representation\n",
    "def get_latent_space(model, data_vector, use_mean=True):\n",
    "    model.eval()  # Set the model to evaluation mode\n",
    "    with torch.no_grad():  # No need to compute gradients\n",
    "        # Ensure the data is in the correct shape and tensor format\n",
    "        data_tensor = torch.tensor(data_vector.reshape(1, 1, ATLAS, ATLAS), dtype=torch.float32).to(DEVICE)\n",
    "        # Pass through the encoder to get mu and logvar\n",
    "        mu, logvar = model.encode(data_tensor)\n",
    "        if use_mean:\n",
    "            return mu.cpu().numpy()  # Return the mean as the latent representation\n",
    "        else:\n",
    "            # Sample from the distribution using reparameterization trick\n",
    "            z = model.reparameterize(mu, logvar)\n",
    "            return z.cpu().numpy()  # Return the sampled latent representation\n"
   ]
  },
  {
   "cell_type": "code",
   "execution_count": 14,
   "metadata": {},
   "outputs": [],
   "source": [
    "def train_vae(model, dataloader, epochs=100, learning_rate=1e-3, device='cuda'):\n",
    "    \"\"\"\n",
    "    Train the Variational Autoencoder (VAE) model.\n",
    "\n",
    "    Parameters:\n",
    "    model (nn.Module): The VAE model to train.\n",
    "    dataloader (DataLoader): DataLoader for the training data.\n",
    "    epochs (int): Number of training epochs.\n",
    "    learning_rate (float): Learning rate for the optimizer.\n",
    "    device (str): Device to run the training on ('cuda' or 'cpu').\n",
    "\n",
    "    Returns:\n",
    "    None\n",
    "    \"\"\"\n",
    "    # Move model to the specified device\n",
    "    model = model.to(device)\n",
    "    \n",
    "    # Define the optimizer\n",
    "    optimizer = optim.Adam(model.parameters(), lr=learning_rate)\n",
    "    \n",
    "    model.train()  # Set the model to training mode\n",
    "\n",
    "    for epoch in range(epochs):\n",
    "        start_time = time.time()\n",
    "        train_loss = 0\n",
    "        for batch_idx, (data, _) in enumerate(dataloader):\n",
    "            data = data.to(device)\n",
    "            optimizer.zero_grad()\n",
    "            recon, mu, logvar = model(data)\n",
    "            loss = loss_function(recon, data, mu, logvar)\n",
    "            loss.backward()\n",
    "            train_loss += loss.item()\n",
    "            optimizer.step()\n",
    "\n",
    "            # Print the loss for each batch\n",
    "            print(f\"Epoch {epoch + 1} [{batch_idx + 1}/{len(dataloader)}], Batch Loss: {loss.item():.4f}\")\n",
    "\n",
    "        # Calculate time taken for the epoch\n",
    "        end_time = time.time()\n",
    "        epoch_time = end_time - start_time\n",
    "        \n",
    "        # Print the average loss for this epoch and time taken\n",
    "        avg_loss = train_loss / len(dataloader.dataset)\n",
    "        print(f\"Epoch {epoch + 1}, Average Loss: {avg_loss:.4f}, Time: {epoch_time:.2f}s\")\n",
    "\n",
    "        # Estimate and print the remaining time\n",
    "        remaining_time = epoch_time * (epochs - epoch - 1)\n",
    "        print(f\"Estimated remaining time: {remaining_time / 60:.2f} minutes\")"
   ]
  },
  {
   "cell_type": "code",
   "execution_count": 15,
   "metadata": {},
   "outputs": [],
   "source": [
    "control_patient_curv_tensor = torch.concatenate((tensors['control_curv'], tensors['patient_curv']))\n",
    "control_patient_curv_dataset = TensorDataset(control_patient_curv_tensor, control_patient_curv_tensor)\n",
    "control_patient_curv_dataloader = DataLoader(control_patient_curv_dataset, batch_size=8, shuffle=True)"
   ]
  },
  {
   "cell_type": "code",
   "execution_count": 16,
   "metadata": {},
   "outputs": [
    {
     "ename": "RuntimeError",
     "evalue": "[enforce fail at alloc_cpu.cpp:114] data. DefaultCPUAllocator: not enough memory: you tried to allocate 3355443200 bytes.",
     "output_type": "error",
     "traceback": [
      "\u001b[1;31m---------------------------------------------------------------------------\u001b[0m",
      "\u001b[1;31mRuntimeError\u001b[0m                              Traceback (most recent call last)",
      "Cell \u001b[1;32mIn[16], line 5\u001b[0m\n\u001b[0;32m      2\u001b[0m control_patient_curv_model \u001b[38;5;241m=\u001b[39m VAE(input_shape\u001b[38;5;241m=\u001b[39m(\u001b[38;5;241m1\u001b[39m, ATLAS, ATLAS), hidden_dim\u001b[38;5;241m=\u001b[39mHIDDEN_DIM, latent_dim\u001b[38;5;241m=\u001b[39mLATENT_DIM)\n\u001b[0;32m      4\u001b[0m \u001b[38;5;66;03m# Train the VAE model\u001b[39;00m\n\u001b[1;32m----> 5\u001b[0m \u001b[43mtrain_vae\u001b[49m\u001b[43m(\u001b[49m\u001b[43mcontrol_patient_curv_model\u001b[49m\u001b[43m,\u001b[49m\u001b[43m \u001b[49m\u001b[43mcontrol_patient_curv_dataloader\u001b[49m\u001b[43m,\u001b[49m\u001b[43m \u001b[49m\u001b[43mepochs\u001b[49m\u001b[38;5;241;43m=\u001b[39;49m\u001b[43mEPOCHS\u001b[49m\u001b[43m,\u001b[49m\u001b[43m \u001b[49m\u001b[43mlearning_rate\u001b[49m\u001b[38;5;241;43m=\u001b[39;49m\u001b[43mLR\u001b[49m\u001b[43m,\u001b[49m\u001b[43m \u001b[49m\u001b[43mdevice\u001b[49m\u001b[38;5;241;43m=\u001b[39;49m\u001b[43mDEVICE\u001b[49m\u001b[43m)\u001b[49m\n",
      "Cell \u001b[1;32mIn[14], line 33\u001b[0m, in \u001b[0;36mtrain_vae\u001b[1;34m(model, dataloader, epochs, learning_rate, device)\u001b[0m\n\u001b[0;32m     31\u001b[0m loss\u001b[38;5;241m.\u001b[39mbackward()\n\u001b[0;32m     32\u001b[0m train_loss \u001b[38;5;241m+\u001b[39m\u001b[38;5;241m=\u001b[39m loss\u001b[38;5;241m.\u001b[39mitem()\n\u001b[1;32m---> 33\u001b[0m \u001b[43moptimizer\u001b[49m\u001b[38;5;241;43m.\u001b[39;49m\u001b[43mstep\u001b[49m\u001b[43m(\u001b[49m\u001b[43m)\u001b[49m\n\u001b[0;32m     35\u001b[0m \u001b[38;5;66;03m# Print the loss for each batch\u001b[39;00m\n\u001b[0;32m     36\u001b[0m \u001b[38;5;28mprint\u001b[39m(\u001b[38;5;124mf\u001b[39m\u001b[38;5;124m\"\u001b[39m\u001b[38;5;124mEpoch \u001b[39m\u001b[38;5;132;01m{\u001b[39;00mepoch\u001b[38;5;250m \u001b[39m\u001b[38;5;241m+\u001b[39m\u001b[38;5;250m \u001b[39m\u001b[38;5;241m1\u001b[39m\u001b[38;5;132;01m}\u001b[39;00m\u001b[38;5;124m [\u001b[39m\u001b[38;5;132;01m{\u001b[39;00mbatch_idx\u001b[38;5;250m \u001b[39m\u001b[38;5;241m+\u001b[39m\u001b[38;5;250m \u001b[39m\u001b[38;5;241m1\u001b[39m\u001b[38;5;132;01m}\u001b[39;00m\u001b[38;5;124m/\u001b[39m\u001b[38;5;132;01m{\u001b[39;00m\u001b[38;5;28mlen\u001b[39m(dataloader)\u001b[38;5;132;01m}\u001b[39;00m\u001b[38;5;124m], Batch Loss: \u001b[39m\u001b[38;5;132;01m{\u001b[39;00mloss\u001b[38;5;241m.\u001b[39mitem()\u001b[38;5;132;01m:\u001b[39;00m\u001b[38;5;124m.4f\u001b[39m\u001b[38;5;132;01m}\u001b[39;00m\u001b[38;5;124m\"\u001b[39m)\n",
      "File \u001b[1;32mc:\\Users\\mosta\\miniconda3\\envs\\brain_connectome\\lib\\site-packages\\torch\\optim\\optimizer.py:391\u001b[0m, in \u001b[0;36mOptimizer.profile_hook_step.<locals>.wrapper\u001b[1;34m(*args, **kwargs)\u001b[0m\n\u001b[0;32m    386\u001b[0m         \u001b[38;5;28;01melse\u001b[39;00m:\n\u001b[0;32m    387\u001b[0m             \u001b[38;5;28;01mraise\u001b[39;00m \u001b[38;5;167;01mRuntimeError\u001b[39;00m(\n\u001b[0;32m    388\u001b[0m                 \u001b[38;5;124mf\u001b[39m\u001b[38;5;124m\"\u001b[39m\u001b[38;5;132;01m{\u001b[39;00mfunc\u001b[38;5;132;01m}\u001b[39;00m\u001b[38;5;124m must return None or a tuple of (new_args, new_kwargs), but got \u001b[39m\u001b[38;5;132;01m{\u001b[39;00mresult\u001b[38;5;132;01m}\u001b[39;00m\u001b[38;5;124m.\u001b[39m\u001b[38;5;124m\"\u001b[39m\n\u001b[0;32m    389\u001b[0m             )\n\u001b[1;32m--> 391\u001b[0m out \u001b[38;5;241m=\u001b[39m func(\u001b[38;5;241m*\u001b[39margs, \u001b[38;5;241m*\u001b[39m\u001b[38;5;241m*\u001b[39mkwargs)\n\u001b[0;32m    392\u001b[0m \u001b[38;5;28mself\u001b[39m\u001b[38;5;241m.\u001b[39m_optimizer_step_code()\n\u001b[0;32m    394\u001b[0m \u001b[38;5;66;03m# call optimizer step post hooks\u001b[39;00m\n",
      "File \u001b[1;32mc:\\Users\\mosta\\miniconda3\\envs\\brain_connectome\\lib\\site-packages\\torch\\optim\\optimizer.py:76\u001b[0m, in \u001b[0;36m_use_grad_for_differentiable.<locals>._use_grad\u001b[1;34m(self, *args, **kwargs)\u001b[0m\n\u001b[0;32m     74\u001b[0m     torch\u001b[38;5;241m.\u001b[39mset_grad_enabled(\u001b[38;5;28mself\u001b[39m\u001b[38;5;241m.\u001b[39mdefaults[\u001b[38;5;124m'\u001b[39m\u001b[38;5;124mdifferentiable\u001b[39m\u001b[38;5;124m'\u001b[39m])\n\u001b[0;32m     75\u001b[0m     torch\u001b[38;5;241m.\u001b[39m_dynamo\u001b[38;5;241m.\u001b[39mgraph_break()\n\u001b[1;32m---> 76\u001b[0m     ret \u001b[38;5;241m=\u001b[39m func(\u001b[38;5;28mself\u001b[39m, \u001b[38;5;241m*\u001b[39margs, \u001b[38;5;241m*\u001b[39m\u001b[38;5;241m*\u001b[39mkwargs)\n\u001b[0;32m     77\u001b[0m \u001b[38;5;28;01mfinally\u001b[39;00m:\n\u001b[0;32m     78\u001b[0m     torch\u001b[38;5;241m.\u001b[39m_dynamo\u001b[38;5;241m.\u001b[39mgraph_break()\n",
      "File \u001b[1;32mc:\\Users\\mosta\\miniconda3\\envs\\brain_connectome\\lib\\site-packages\\torch\\optim\\adam.py:159\u001b[0m, in \u001b[0;36mAdam.step\u001b[1;34m(self, closure)\u001b[0m\n\u001b[0;32m    156\u001b[0m     state_steps \u001b[38;5;241m=\u001b[39m []\n\u001b[0;32m    157\u001b[0m     beta1, beta2 \u001b[38;5;241m=\u001b[39m group[\u001b[38;5;124m'\u001b[39m\u001b[38;5;124mbetas\u001b[39m\u001b[38;5;124m'\u001b[39m]\n\u001b[1;32m--> 159\u001b[0m     has_complex \u001b[38;5;241m=\u001b[39m \u001b[38;5;28;43mself\u001b[39;49m\u001b[38;5;241;43m.\u001b[39;49m\u001b[43m_init_group\u001b[49m\u001b[43m(\u001b[49m\n\u001b[0;32m    160\u001b[0m \u001b[43m        \u001b[49m\u001b[43mgroup\u001b[49m\u001b[43m,\u001b[49m\n\u001b[0;32m    161\u001b[0m \u001b[43m        \u001b[49m\u001b[43mparams_with_grad\u001b[49m\u001b[43m,\u001b[49m\n\u001b[0;32m    162\u001b[0m \u001b[43m        \u001b[49m\u001b[43mgrads\u001b[49m\u001b[43m,\u001b[49m\n\u001b[0;32m    163\u001b[0m \u001b[43m        \u001b[49m\u001b[43mexp_avgs\u001b[49m\u001b[43m,\u001b[49m\n\u001b[0;32m    164\u001b[0m \u001b[43m        \u001b[49m\u001b[43mexp_avg_sqs\u001b[49m\u001b[43m,\u001b[49m\n\u001b[0;32m    165\u001b[0m \u001b[43m        \u001b[49m\u001b[43mmax_exp_avg_sqs\u001b[49m\u001b[43m,\u001b[49m\n\u001b[0;32m    166\u001b[0m \u001b[43m        \u001b[49m\u001b[43mstate_steps\u001b[49m\u001b[43m)\u001b[49m\n\u001b[0;32m    168\u001b[0m     adam(\n\u001b[0;32m    169\u001b[0m         params_with_grad,\n\u001b[0;32m    170\u001b[0m         grads,\n\u001b[1;32m   (...)\u001b[0m\n\u001b[0;32m    188\u001b[0m         found_inf\u001b[38;5;241m=\u001b[39m\u001b[38;5;28mgetattr\u001b[39m(\u001b[38;5;28mself\u001b[39m, \u001b[38;5;124m\"\u001b[39m\u001b[38;5;124mfound_inf\u001b[39m\u001b[38;5;124m\"\u001b[39m, \u001b[38;5;28;01mNone\u001b[39;00m),\n\u001b[0;32m    189\u001b[0m     )\n\u001b[0;32m    191\u001b[0m \u001b[38;5;28;01mreturn\u001b[39;00m loss\n",
      "File \u001b[1;32mc:\\Users\\mosta\\miniconda3\\envs\\brain_connectome\\lib\\site-packages\\torch\\optim\\adam.py:113\u001b[0m, in \u001b[0;36mAdam._init_group\u001b[1;34m(self, group, params_with_grad, grads, exp_avgs, exp_avg_sqs, max_exp_avg_sqs, state_steps)\u001b[0m\n\u001b[0;32m    107\u001b[0m state[\u001b[38;5;124m'\u001b[39m\u001b[38;5;124mstep\u001b[39m\u001b[38;5;124m'\u001b[39m] \u001b[38;5;241m=\u001b[39m (\n\u001b[0;32m    108\u001b[0m     torch\u001b[38;5;241m.\u001b[39mzeros((), dtype\u001b[38;5;241m=\u001b[39m_get_scalar_dtype(is_fused\u001b[38;5;241m=\u001b[39mgroup[\u001b[38;5;124m'\u001b[39m\u001b[38;5;124mfused\u001b[39m\u001b[38;5;124m'\u001b[39m]), device\u001b[38;5;241m=\u001b[39mp\u001b[38;5;241m.\u001b[39mdevice)\n\u001b[0;32m    109\u001b[0m     \u001b[38;5;28;01mif\u001b[39;00m group[\u001b[38;5;124m'\u001b[39m\u001b[38;5;124mcapturable\u001b[39m\u001b[38;5;124m'\u001b[39m] \u001b[38;5;129;01mor\u001b[39;00m group[\u001b[38;5;124m'\u001b[39m\u001b[38;5;124mfused\u001b[39m\u001b[38;5;124m'\u001b[39m]\n\u001b[0;32m    110\u001b[0m     \u001b[38;5;28;01melse\u001b[39;00m torch\u001b[38;5;241m.\u001b[39mtensor(\u001b[38;5;241m0.0\u001b[39m, dtype\u001b[38;5;241m=\u001b[39m_get_scalar_dtype())\n\u001b[0;32m    111\u001b[0m )\n\u001b[0;32m    112\u001b[0m \u001b[38;5;66;03m# Exponential moving average of gradient values\u001b[39;00m\n\u001b[1;32m--> 113\u001b[0m state[\u001b[38;5;124m'\u001b[39m\u001b[38;5;124mexp_avg\u001b[39m\u001b[38;5;124m'\u001b[39m] \u001b[38;5;241m=\u001b[39m \u001b[43mtorch\u001b[49m\u001b[38;5;241;43m.\u001b[39;49m\u001b[43mzeros_like\u001b[49m\u001b[43m(\u001b[49m\u001b[43mp\u001b[49m\u001b[43m,\u001b[49m\u001b[43m \u001b[49m\u001b[43mmemory_format\u001b[49m\u001b[38;5;241;43m=\u001b[39;49m\u001b[43mtorch\u001b[49m\u001b[38;5;241;43m.\u001b[39;49m\u001b[43mpreserve_format\u001b[49m\u001b[43m)\u001b[49m\n\u001b[0;32m    114\u001b[0m \u001b[38;5;66;03m# Exponential moving average of squared gradient values\u001b[39;00m\n\u001b[0;32m    115\u001b[0m state[\u001b[38;5;124m'\u001b[39m\u001b[38;5;124mexp_avg_sq\u001b[39m\u001b[38;5;124m'\u001b[39m] \u001b[38;5;241m=\u001b[39m torch\u001b[38;5;241m.\u001b[39mzeros_like(p, memory_format\u001b[38;5;241m=\u001b[39mtorch\u001b[38;5;241m.\u001b[39mpreserve_format)\n",
      "\u001b[1;31mRuntimeError\u001b[0m: [enforce fail at alloc_cpu.cpp:114] data. DefaultCPUAllocator: not enough memory: you tried to allocate 3355443200 bytes."
     ]
    }
   ],
   "source": [
    "# Define the VAE model\n",
    "control_patient_curv_model = VAE(input_shape=(1, ATLAS, ATLAS), hidden_dim=HIDDEN_DIM, latent_dim=LATENT_DIM)\n",
    "\n",
    "# Train the VAE model\n",
    "train_vae(control_patient_curv_model, control_patient_curv_dataloader, epochs=EPOCHS, learning_rate=LR, device=DEVICE)"
   ]
  },
  {
   "cell_type": "code",
   "execution_count": null,
   "metadata": {},
   "outputs": [],
   "source": [
    "# control_patient_adj_tensor = torch.concatenate((tensors['control_adj'], tensors['patient_adj']))\n",
    "# control_patient_adj_dataset = TensorDataset(control_patient_adj_tensor, control_patient_adj_tensor)\n",
    "# control_patient_adj_dataloader = DataLoader(control_patient_adj_dataset, batch_size=8, shuffle=True)"
   ]
  },
  {
   "cell_type": "code",
   "execution_count": null,
   "metadata": {},
   "outputs": [],
   "source": [
    "# # Define the VAE model\n",
    "# control_patient_adj_model = VAE(input_shape=(1, ATLAS, ATLAS), hidden_dim=HIDDEN_DIM, latent_dim=LATENT_DIM)\n",
    "\n",
    "# # Train the VAE model\n",
    "# train_vae(control_patient_adj_model, control_patient_adj_dataloader, epochs=EPOCHS, learning_rate=LR, device=DEVICE)"
   ]
  }
 ],
 "metadata": {
  "kernelspec": {
   "display_name": "brain_connectome",
   "language": "python",
   "name": "python3"
  },
  "language_info": {
   "codemirror_mode": {
    "name": "ipython",
    "version": 3
   },
   "file_extension": ".py",
   "mimetype": "text/x-python",
   "name": "python",
   "nbconvert_exporter": "python",
   "pygments_lexer": "ipython3",
   "version": "3.10.13"
  }
 },
 "nbformat": 4,
 "nbformat_minor": 2
}
