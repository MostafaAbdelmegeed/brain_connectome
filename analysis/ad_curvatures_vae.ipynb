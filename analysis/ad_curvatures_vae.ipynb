{
 "cells": [
  {
   "cell_type": "code",
   "execution_count": 1,
   "metadata": {},
   "outputs": [],
   "source": [
    "import torch\n",
    "import torch.nn as nn\n",
    "import torch.optim as optim\n",
    "from torch.utils.data import DataLoader, TensorDataset\n",
    "import numpy as np\n",
    "import sys\n",
    "sys.path.append('C:/Users/mosta/OneDrive - UNCG\\Academics/CSC 699 - Thesis/repos/brain_connectome/graphIO')\n",
    "from graphIO import read_ad_data, normalize_matrices\n",
    "from asymmetry import calculate_inter_hemispheric_asymmetry_vector\n",
    "from sklearn.cross_decomposition import CCA\n",
    "import matplotlib.pyplot as plt"
   ]
  },
  {
   "cell_type": "code",
   "execution_count": 2,
   "metadata": {},
   "outputs": [],
   "source": [
    "AD_DIR = \"C:/Users/mosta/OneDrive - UNCG/Academics/CSC 699 - Thesis/data/curvatures/\"\n",
    "DEVICE = device = torch.device(\"cuda\" if torch.cuda.is_available() else \"cpu\")\n",
    "ATLAS = 160\n",
    "HIDDEN_DIM = 256\n",
    "LATENT_DIM = 1000\n",
    "EPOCHS = 100\n",
    "ASYMMETRY_METHOD = 'ai'\n",
    "CCA_COMPONENTS = 2\n",
    "LEARNING_RATE = 0.00001\n",
    "BATCH_SIZE = 32"
   ]
  },
  {
   "cell_type": "code",
   "execution_count": 4,
   "metadata": {},
   "outputs": [
    {
     "name": "stderr",
     "output_type": "stream",
     "text": [
      "Reading adjacency matrices: 100%|██████████| 50/50 [00:00<00:00, 257.71it/s]\n",
      "Reading adjacency matrices: 100%|██████████| 50/50 [00:00<00:00, 291.90it/s]"
     ]
    },
    {
     "name": "stdout",
     "output_type": "stream",
     "text": [
      "Control matrices shape:  (50, 160, 160)\n",
      "Patient matrices shape:  (50, 160, 160)\n"
     ]
    },
    {
     "name": "stderr",
     "output_type": "stream",
     "text": [
      "\n"
     ]
    }
   ],
   "source": [
    "control_matrices, patient_matrices = read_ad_data(AD_DIR)\n",
    "control_matrices = np.array(control_matrices)\n",
    "patient_matrices = np.array(patient_matrices)\n",
    "print(\"Control matrices shape: \", control_matrices.shape)\n",
    "print(\"Patient matrices shape: \", patient_matrices.shape)"
   ]
  },
  {
   "cell_type": "code",
   "execution_count": null,
   "metadata": {},
   "outputs": [],
   "source": []
  }
 ],
 "metadata": {
  "kernelspec": {
   "display_name": "brain_connectome",
   "language": "python",
   "name": "python3"
  },
  "language_info": {
   "codemirror_mode": {
    "name": "ipython",
    "version": 3
   },
   "file_extension": ".py",
   "mimetype": "text/x-python",
   "name": "python",
   "nbconvert_exporter": "python",
   "pygments_lexer": "ipython3",
   "version": "3.10.13"
  }
 },
 "nbformat": 4,
 "nbformat_minor": 2
}
