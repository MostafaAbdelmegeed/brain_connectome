{
 "cells": [
  {
   "cell_type": "code",
   "execution_count": 1,
   "metadata": {},
   "outputs": [],
   "source": [
    "import torch\n",
    "import torch.nn as nn\n",
    "import torch.optim as optim\n",
    "from torch.utils.data import DataLoader, TensorDataset\n",
    "import numpy as np\n",
    "import sys\n",
    "sys.path.append('C:/Users/mosta/OneDrive - UNCG\\Academics/CSC 699 - Thesis/repos/brain_connectome/graphIO')\n",
    "from graphIO import read_ad_data, normalize_matrices, analyze_matrices\n",
    "from asymmetry import calculate_inter_hemispheric_asymmetry_vector\n",
    "from sklearn.cross_decomposition import CCA\n",
    "import matplotlib.pyplot as plt"
   ]
  },
  {
   "cell_type": "code",
   "execution_count": 2,
   "metadata": {},
   "outputs": [],
   "source": [
    "AD_DIR = \"C:/Users/mosta/OneDrive - UNCG/Academics/CSC 699 - Thesis/data/curvatures/\"\n",
    "DEVICE = device = torch.device(\"cuda\" if torch.cuda.is_available() else \"cpu\")\n",
    "ATLAS = 160\n",
    "HIDDEN_DIM = 256\n",
    "LATENT_DIM = 1000\n",
    "EPOCHS = 100\n",
    "ASYMMETRY_METHOD = 'ai'\n",
    "CCA_COMPONENTS = 2\n",
    "LEARNING_RATE = 0.00001\n",
    "BATCH_SIZE = 32"
   ]
  },
  {
   "cell_type": "code",
   "execution_count": 3,
   "metadata": {},
   "outputs": [
    {
     "name": "stderr",
     "output_type": "stream",
     "text": [
      "Reading adjacency matrices:   0%|          | 0/50 [00:00<?, ?it/s]"
     ]
    },
    {
     "name": "stderr",
     "output_type": "stream",
     "text": [
      "Reading adjacency matrices: 100%|██████████| 50/50 [00:00<00:00, 226.64it/s]\n",
      "Reading adjacency matrices: 100%|██████████| 50/50 [00:00<00:00, 275.72it/s]"
     ]
    },
    {
     "name": "stdout",
     "output_type": "stream",
     "text": [
      "Control matrices shape:  (50, 160, 160)\n",
      "Patient matrices shape:  (50, 160, 160)\n",
      "Statistics for the entire set of matrices:\n",
      "Mean: 0.20577684171875\n",
      "Standard Deviation: 0.4865345531658492\n",
      "Maximum Value: 2.89362\n",
      "Minimum Value: 0.0\n",
      "----------------------------------------\n",
      "Statistics for the entire set of matrices:\n",
      "Mean: 0.18812528303124995\n",
      "Standard Deviation: 0.4628536659363666\n",
      "Maximum Value: 2.83421\n",
      "Minimum Value: 0.0\n",
      "----------------------------------------\n"
     ]
    },
    {
     "name": "stderr",
     "output_type": "stream",
     "text": [
      "\n"
     ]
    }
   ],
   "source": [
    "control_matrices, patient_matrices = read_ad_data(AD_DIR)\n",
    "control_matrices = np.array(control_matrices)\n",
    "patient_matrices = np.array(patient_matrices)\n",
    "\n",
    "print(\"Control matrices shape: \", control_matrices.shape)\n",
    "print(\"Patient matrices shape: \", patient_matrices.shape)\n",
    "\n",
    "analyze_matrices(control_matrices)\n",
    "analyze_matrices(patient_matrices)"
   ]
  },
  {
   "cell_type": "code",
   "execution_count": null,
   "metadata": {},
   "outputs": [],
   "source": []
  }
 ],
 "metadata": {
  "kernelspec": {
   "display_name": "brain_connectome",
   "language": "python",
   "name": "python3"
  },
  "language_info": {
   "codemirror_mode": {
    "name": "ipython",
    "version": 3
   },
   "file_extension": ".py",
   "mimetype": "text/x-python",
   "name": "python",
   "nbconvert_exporter": "python",
   "pygments_lexer": "ipython3",
   "version": "3.10.13"
  }
 },
 "nbformat": 4,
 "nbformat_minor": 2
}
