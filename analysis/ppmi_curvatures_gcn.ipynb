{
 "cells": [
  {
   "cell_type": "code",
   "execution_count": null,
   "metadata": {},
   "outputs": [],
   "source": [
    "import torch\n",
    "import torch.nn as nn\n",
    "from einops.layers.torch import Rearrange\n",
    "import torch.nn.functional as F\n",
    "from torch.nn import Sequential, Linear, BatchNorm1d, ReLU\n",
    "import numpy as np\n",
    "from torch_geometric.nn import GCNConv, global_mean_pool, GINConv, global_add_pool\n",
    "from torch_geometric.nn import MLP as pyg_MLP\n",
    "import argparse\n",
    "import argparse\n",
    "import torch\n",
    "import torch.nn as nn\n",
    "import torch.nn.functional as F\n",
    "import numpy as np\n",
    "import random\n",
    "from torch.optim import Adam\n",
    "from torch_geometric.loader import DataLoader\n",
    "from torch.utils.data import Dataset\n",
    "import os\n",
    "from torch_geometric.nn import GCNConv, GINConv, GATConv, global_mean_pool, global_add_pool\n",
    "from torch.nn import Linear\n",
    "from sklearn.metrics import accuracy_score, precision_score, recall_score, f1_score\n",
    "from torch.utils.data import random_split\n",
    "from tqdm import tqdm\n",
    "\n",
    "# Check if running in a non-interactive environment (e.g., using nohup)\n",
    "is_non_interactive = not os.isatty(1)"
   ]
  },
  {
   "cell_type": "code",
   "execution_count": null,
   "metadata": {},
   "outputs": [],
   "source": [
    "class GCN(nn.Module):\n",
    "    def __init__(self, in_feats, hidden_size, out_feats):\n",
    "        super(GCN, self).__init__()\n",
    "        self.conv1 = GCNConv(in_feats, hidden_size)\n",
    "        self.conv2 = GCNConv(hidden_size, hidden_size)\n",
    "        self.lin1 = Linear(hidden_size, in_feats)\n",
    "        self.lin2 = Linear(in_feats, out_feats)\n",
    "\n",
    "    def forward(self, data):\n",
    "        x, edge_index, edge_weight = data.x, data.edge_index, data.edge_attr\n",
    "        x = self.conv1(x, edge_index, edge_weight)\n",
    "        x = F.relu(x)\n",
    "        x = self.conv2(x.float(), edge_index, edge_weight)\n",
    "        x = F.relu(x)\n",
    "        x = global_mean_pool(x, data.batch) \n",
    "        x = F.dropout(x, p=0.3, training=self.training)\n",
    "        x_fea = self.lin1(x)\n",
    "        x = F.relu(x_fea)\n",
    "        x = self.lin2(x)\n",
    "        return x, x_fea"
   ]
  },
  {
   "cell_type": "code",
   "execution_count": null,
   "metadata": {},
   "outputs": [],
   "source": [
    "def load_data(path='../data/ppmi_curv_pyg.pth', batchsize=16):\n",
    "    dataset = torch.load(path)\n",
    "    train_set, val_set, test_set = random_split(dataset, [0.8, 0.1, 0.1])\n",
    "    print(f\"Train set: {len(train_set)}, Val set: {len(val_set)}, Test set: {len(test_set)}\")\n",
    "    train_loader = DataLoader(train_set, batch_size=batchsize, shuffle=True, num_workers=8)\n",
    "    val_loader = DataLoader(val_set, batch_size=batchsize, shuffle=True, num_workers=8)\n",
    "    test_loader = DataLoader(test_set, batch_size=batchsize, shuffle=True, num_workers=8)\n",
    "    return train_loader, val_loader, test_loader"
   ]
  },
  {
   "cell_type": "code",
   "execution_count": null,
   "metadata": {},
   "outputs": [],
   "source": [
    "def train(model, loader, criterion, optimizer, device):\n",
    "    model.train()\n",
    "    total_loss = 0\n",
    "    for data in tqdm(loader, desc=\"Training Batches\", leave=False, dynamic_ncols=True, disable=is_non_interactive):\n",
    "        data = data.to(device)\n",
    "        optimizer.zero_grad()\n",
    "        out = model(data)\n",
    "        loss = criterion(out, data.y)\n",
    "        loss.backward()\n",
    "        optimizer.step()\n",
    "        total_loss += loss.item()\n",
    "    return total_loss / len(loader)\n",
    "\n",
    "def test(model, loader, device):\n",
    "    model.eval()\n",
    "    correct = 0\n",
    "    preds = []\n",
    "    gts = []\n",
    "    with torch.no_grad():\n",
    "        for data in tqdm(loader, desc=\"Testing Batches\", leave=False, dynamic_ncols=True, disable=is_non_interactive):\n",
    "            data = data.to(device)\n",
    "            out = model(data)\n",
    "            pred = out.argmax(dim=-1)\n",
    "            correct += int((pred == data.y).sum())\n",
    "            preds.append(pred.cpu().numpy())\n",
    "            gts.append(data.y.cpu().numpy())\n",
    "    preds = np.concatenate(preds, axis=0)\n",
    "    gts = np.concatenate(gts, axis=0)\n",
    "    accuracy = accuracy_score(gts, preds)\n",
    "    precision = precision_score(gts, preds, average='weighted', zero_division=0)\n",
    "    recall = recall_score(gts, preds, average='weighted', zero_division=0)\n",
    "    f1 = f1_score(gts, preds, average='weighted', zero_division=0)\n",
    "    return accuracy, precision, recall, f1"
   ]
  }
 ],
 "metadata": {
  "kernelspec": {
   "display_name": "brain",
   "language": "python",
   "name": "python3"
  },
  "language_info": {
   "name": "python",
   "version": "3.10.13"
  }
 },
 "nbformat": 4,
 "nbformat_minor": 2
}
