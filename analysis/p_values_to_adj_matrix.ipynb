{
 "cells": [
  {
   "cell_type": "code",
   "execution_count": 1,
   "metadata": {},
   "outputs": [],
   "source": [
    "import numpy as np\n",
    "from helpers import save_adj_matrix, normalize_matrix"
   ]
  },
  {
   "cell_type": "code",
   "execution_count": 2,
   "metadata": {},
   "outputs": [],
   "source": [
    "INPUT_MATRIX = \"output/lrc_proc_2024-04-05_16-02-04.npy\"\n",
    "OUTPUT_MATRIX = \"output/lrc_adj_2024-04-05_16-02-04.txt\""
   ]
  },
  {
   "cell_type": "code",
   "execution_count": 3,
   "metadata": {},
   "outputs": [
    {
     "data": {
      "text/plain": [
       "array([[       nan, 0.18549538,        nan, ..., 0.86380181, 0.33186799,\n",
       "        0.54579055],\n",
       "       [0.18549538,        nan, 0.31977329, ..., 0.00421311,        nan,\n",
       "        0.50303907],\n",
       "       [       nan, 0.31977329,        nan, ..., 0.08411319, 0.16788815,\n",
       "               nan],\n",
       "       ...,\n",
       "       [0.86380181, 0.00421311, 0.08411319, ...,        nan, 0.17188849,\n",
       "        0.362081  ],\n",
       "       [0.33186799,        nan, 0.16788815, ..., 0.17188849,        nan,\n",
       "        0.02563463],\n",
       "       [0.54579055, 0.50303907,        nan, ..., 0.362081  , 0.02563463,\n",
       "               nan]])"
      ]
     },
     "execution_count": 3,
     "metadata": {},
     "output_type": "execute_result"
    }
   ],
   "source": [
    "p_values = np.load(INPUT_MATRIX)\n",
    "p_values"
   ]
  },
  {
   "cell_type": "code",
   "execution_count": 4,
   "metadata": {},
   "outputs": [
    {
     "data": {
      "text/plain": [
       "array([[         nan,   5.3909699 ,          nan, ...,   1.15767296,\n",
       "          3.0132463 ,   1.83220468],\n",
       "       [  5.3909699 ,          nan,   3.12721556, ..., 237.35447031,\n",
       "                 nan,   1.98791715],\n",
       "       [         nan,   3.12721556,          nan, ...,  11.88874224,\n",
       "          5.9563465 ,          nan],\n",
       "       ...,\n",
       "       [  1.15767296, 237.35447031,  11.88874224, ...,          nan,\n",
       "          5.81772529,   2.76181298],\n",
       "       [  3.0132463 ,          nan,   5.9563465 , ...,   5.81772529,\n",
       "                 nan,  39.00973596],\n",
       "       [  1.83220468,   1.98791715,          nan, ...,   2.76181298,\n",
       "         39.00973596,          nan]])"
      ]
     },
     "execution_count": 4,
     "metadata": {},
     "output_type": "execute_result"
    }
   ],
   "source": [
    "significance_matrix = 1/p_values\n",
    "significance_matrix"
   ]
  },
  {
   "cell_type": "code",
   "execution_count": 5,
   "metadata": {},
   "outputs": [
    {
     "data": {
      "text/plain": [
       "array([[  0.        ,   5.3909699 ,   0.        , ...,   1.15767296,\n",
       "          3.0132463 ,   1.83220468],\n",
       "       [  5.3909699 ,   0.        ,   3.12721556, ..., 237.35447031,\n",
       "          0.        ,   1.98791715],\n",
       "       [  0.        ,   3.12721556,   0.        , ...,  11.88874224,\n",
       "          5.9563465 ,   0.        ],\n",
       "       ...,\n",
       "       [  1.15767296, 237.35447031,  11.88874224, ...,   0.        ,\n",
       "          5.81772529,   2.76181298],\n",
       "       [  3.0132463 ,   0.        ,   5.9563465 , ...,   5.81772529,\n",
       "          0.        ,  39.00973596],\n",
       "       [  1.83220468,   1.98791715,   0.        , ...,   2.76181298,\n",
       "         39.00973596,   0.        ]])"
      ]
     },
     "execution_count": 5,
     "metadata": {},
     "output_type": "execute_result"
    }
   ],
   "source": [
    "significance_matrix = np.nan_to_num(significance_matrix, nan=0)\n",
    "significance_matrix"
   ]
  },
  {
   "cell_type": "code",
   "execution_count": 6,
   "metadata": {},
   "outputs": [
    {
     "data": {
      "text/plain": [
       "array([[0.00000000e+00, 1.06170573e-05, 0.00000000e+00, ...,\n",
       "        2.27993856e-06, 5.93433262e-06, 3.60837147e-06],\n",
       "       [1.06170573e-05, 0.00000000e+00, 6.15878539e-06, ...,\n",
       "        4.67449466e-04, 0.00000000e+00, 3.91503396e-06],\n",
       "       [0.00000000e+00, 6.15878539e-06, 0.00000000e+00, ...,\n",
       "        2.34138679e-05, 1.17305185e-05, 0.00000000e+00],\n",
       "       ...,\n",
       "       [2.27993856e-06, 4.67449466e-04, 2.34138679e-05, ...,\n",
       "        0.00000000e+00, 1.14575158e-05, 5.43915605e-06],\n",
       "       [5.93433262e-06, 0.00000000e+00, 1.17305185e-05, ...,\n",
       "        1.14575158e-05, 0.00000000e+00, 7.68263612e-05],\n",
       "       [3.60837147e-06, 3.91503396e-06, 0.00000000e+00, ...,\n",
       "        5.43915605e-06, 7.68263612e-05, 0.00000000e+00]])"
      ]
     },
     "execution_count": 6,
     "metadata": {},
     "output_type": "execute_result"
    }
   ],
   "source": [
    "significance_matrix = normalize_matrix(significance_matrix)\n",
    "significance_matrix"
   ]
  },
  {
   "cell_type": "code",
   "execution_count": 7,
   "metadata": {},
   "outputs": [],
   "source": [
    "np.savetxt(OUTPUT_MATRIX, significance_matrix, delimiter=' ')"
   ]
  }
 ],
 "metadata": {
  "kernelspec": {
   "display_name": ".venv",
   "language": "python",
   "name": "python3"
  },
  "language_info": {
   "codemirror_mode": {
    "name": "ipython",
    "version": 3
   },
   "file_extension": ".py",
   "mimetype": "text/x-python",
   "name": "python",
   "nbconvert_exporter": "python",
   "pygments_lexer": "ipython3",
   "version": "3.10.13"
  }
 },
 "nbformat": 4,
 "nbformat_minor": 2
}
